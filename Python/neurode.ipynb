{
 "cells": [
  {
   "cell_type": "code",
   "execution_count": 2,
   "id": "5a5cb7d0",
   "metadata": {},
   "outputs": [
    {
     "name": "stdout",
     "output_type": "stream",
     "text": [
      "Model: \"sequential_1\"\n",
      "_________________________________________________________________\n",
      " Layer (type)                Output Shape              Param #   \n",
      "=================================================================\n",
      " conv2d_2 (Conv2D)           (None, 28, 28, 32)        320       \n",
      "                                                                 \n",
      " max_pooling2d_2 (MaxPooling  (None, 14, 14, 32)       0         \n",
      " 2D)                                                             \n",
      "                                                                 \n",
      " conv2d_3 (Conv2D)           (None, 14, 14, 32)        9248      \n",
      "                                                                 \n",
      " max_pooling2d_3 (MaxPooling  (None, 7, 7, 32)         0         \n",
      " 2D)                                                             \n",
      "                                                                 \n",
      " flatten_1 (Flatten)         (None, 1568)              0         \n",
      "                                                                 \n",
      " dense_2 (Dense)             (None, 64)                100416    \n",
      "                                                                 \n",
      " dense_3 (Dense)             (None, 10)                650       \n",
      "                                                                 \n",
      "=================================================================\n",
      "Total params: 110,634\n",
      "Trainable params: 110,634\n",
      "Non-trainable params: 0\n",
      "_________________________________________________________________\n",
      "None\n"
     ]
    }
   ],
   "source": [
    "# Import des modules nécessaires \n",
    " \n",
    "from keras.layers import Conv2D, MaxPooling2D, Flatten, Dense \n",
    "from keras.models import Sequential \n",
    "from keras.datasets import mnist \n",
    "from keras.utils import to_categorical \n",
    " \n",
    " \n",
    "# Chargement du jeu de données \n",
    " \n",
    "(X_train, y_train), (X_test, y_test) = mnist.load_data() \n",
    " \n",
    "# Prétraitement \n",
    " \n",
    "batch_size = 128 \n",
    "num_classes = 10 \n",
    "epochs = 3 \n",
    " \n",
    "X_train = X_train.reshape(60000,28,28,1) \n",
    "X_test = X_test.reshape(10000,28,28,1) \n",
    "X_train = X_train.astype('float32') \n",
    "X_test = X_test.astype('float32') \n",
    "X_train /= 255.0 \n",
    "X_test /= 255.0 \n",
    "y_train = to_categorical(y_train,num_classes) \n",
    "y_test = to_categorical(y_test, num_classes) \n",
    " \n",
    " \n",
    "# Création du modèle couche après couche \n",
    " \n",
    "cnn = Sequential() \n",
    "cnn.add(Conv2D(32, kernel_size=(3,3),input_shape=(28,28,1),  \n",
    "padding='same', activation='relu')) \n",
    "cnn.add(MaxPooling2D()) \n",
    "cnn.add(Conv2D(32, kernel_size=(3,3),padding='same',  \n",
    "activation='relu')) \n",
    "cnn.add(MaxPooling2D()) \n",
    "cnn.add(Flatten()) \n",
    "cnn.add(Dense(64,activation='relu')) \n",
    "cnn.add(Dense(10,activation='softmax')) \n",
    "cnn.compile(optimizer='adam',loss='categorical_crossentropy', \n",
    "metrics=['accuracy']) \n",
    "print(cnn.summary()) "
   ]
  },
  {
   "cell_type": "code",
   "execution_count": null,
   "id": "32aacb8b",
   "metadata": {},
   "outputs": [],
   "source": []
  }
 ],
 "metadata": {
  "kernelspec": {
   "display_name": "Python 3.10.7 64-bit",
   "language": "python",
   "name": "python3"
  },
  "language_info": {
   "codemirror_mode": {
    "name": "ipython",
    "version": 3
   },
   "file_extension": ".py",
   "mimetype": "text/x-python",
   "name": "python",
   "nbconvert_exporter": "python",
   "pygments_lexer": "ipython3",
   "version": "3.10.7"
  },
  "vscode": {
   "interpreter": {
    "hash": "369f2c481f4da34e4445cda3fffd2e751bd1c4d706f27375911949ba6bb62e1c"
   }
  }
 },
 "nbformat": 4,
 "nbformat_minor": 5
}
