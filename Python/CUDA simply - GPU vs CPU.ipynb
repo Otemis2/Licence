{
 "cells": [
  {
   "cell_type": "markdown",
   "id": "82b784ee",
   "metadata": {},
   "source": [
    "### CUDA simply explained - GPU vs CPU Parallel Computing for beginners  \n",
    "Lancer le Terminal puis taper : ***conda install -c pytorch pytorch***  \n",
    "cette commande installe également **cudatoolkit**  \n",
    "Sinon : **conda install -c anaconda cudatoolkit**\n",
    "\n",
    "Lien vidéo : https://www.youtube.com/watch?v=r9IqwpMR9TE  \n",
    "Redémarrer le noyau et ré-exécuter tout le Notebook\n"
   ]
  },
  {
   "cell_type": "code",
   "execution_count": 7,
   "id": "ca57db8d",
   "metadata": {},
   "outputs": [
    {
     "data": {
      "text/plain": [
       "True"
      ]
     },
     "execution_count": 7,
     "metadata": {},
     "output_type": "execute_result"
    }
   ],
   "source": [
    "import torch\n",
    "torch.cuda.is_available()"
   ]
  },
  {
   "cell_type": "code",
   "execution_count": 8,
   "id": "b3cb4dca",
   "metadata": {},
   "outputs": [
    {
     "name": "stdout",
     "output_type": "stream",
     "text": [
      "using cuda device\n"
     ]
    }
   ],
   "source": [
    "import torch\n",
    "if torch.cuda.is_available():\n",
    "    device = torch.device(\"cuda\")\n",
    "else:\n",
    "    device = torche.device(\"cpu\")\n",
    "print(\"using\", device, \"device\")"
   ]
  },
  {
   "cell_type": "code",
   "execution_count": 9,
   "id": "60f04226",
   "metadata": {},
   "outputs": [
    {
     "name": "stdout",
     "output_type": "stream",
     "text": [
      "****** CPU SPEED ******\n",
      "2.5550551414489746\n",
      "verify device: cpu\n",
      "****** GPU SPEED ******\n",
      "0.2668266296386719\n",
      "verify device: cuda:0\n"
     ]
    }
   ],
   "source": [
    "import time\n",
    "\n",
    "matrix_size = 32*300\n",
    "\n",
    "x = torch.randn(matrix_size, matrix_size)\n",
    "y = torch.randn(matrix_size, matrix_size)\n",
    "\n",
    "print(\"****** CPU SPEED ******\")\n",
    "start = time.time()\n",
    "result = torch.matmul(x,y)\n",
    "print(time.time() - start)\n",
    "print(\"verify device:\", result.device)\n",
    "\n",
    "cuda = torch.device(device)\n",
    "\n",
    "x_gpu = x.to(device)\n",
    "y_gpu = y.to(device)\n",
    "torch.cuda.synchronize()\n",
    "\n",
    "print(\"****** GPU SPEED ******\")\n",
    "start = time.time()\n",
    "result_gpu = torch.matmul(x_gpu,y_gpu)\n",
    "torch.cuda.synchronize()\n",
    "print(time.time() - start)\n",
    "print(\"verify device:\", result_gpu.device)\n"
   ]
  }
 ],
 "metadata": {
  "kernelspec": {
   "display_name": "Python 3.9.12 ('base')",
   "language": "python",
   "name": "python3"
  },
  "language_info": {
   "codemirror_mode": {
    "name": "ipython",
    "version": 3
   },
   "file_extension": ".py",
   "mimetype": "text/x-python",
   "name": "python",
   "nbconvert_exporter": "python",
   "pygments_lexer": "ipython3",
   "version": "3.9.12"
  },
  "vscode": {
   "interpreter": {
    "hash": "ab8c520f3e14f7b70fb25986aab544b3456fc51d7cfc53092bce76b6c884a92f"
   }
  }
 },
 "nbformat": 4,
 "nbformat_minor": 5
}
